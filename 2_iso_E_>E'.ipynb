{
  "cells": [
    {
      "cell_type": "markdown",
      "metadata": {
        "id": "view-in-github",
        "colab_type": "text"
      },
      "source": [
        "<a href=\"https://colab.research.google.com/github/shiz-107/Elliptic-Isogenies-PQC/blob/main/2_iso_E_%3EE'.ipynb\" target=\"_parent\"><img src=\"https://colab.research.google.com/assets/colab-badge.svg\" alt=\"Open In Colab\"/></a>"
      ]
    },
    {
      "cell_type": "code",
      "source": [
        "# Points addition\n",
        "# Define the parameters of the elliptic curve E : y^2=x^3+Ax+x over F_431[j]\n",
        "j = complex(0,1)\n",
        "A =1+1j\n",
        "p =107 # the field size\n",
        "\n",
        "\n",
        "# Define a function to add two points on the curve\n",
        "def point_addition(P, Q):\n",
        "    if P is None:\n",
        "        return Q\n",
        "    if Q is None:\n",
        "        return P\n",
        "\n",
        "\n",
        "\n",
        "    if P != Q:\n",
        "\n",
        "        num = Q[1] - P[1]\n",
        "        num_prime = num.real%p + num.imag%p*j\n",
        "\n",
        "        den = Q[0] - P[0]\n",
        "        den_prime = den.real%p + den.imag%p*j\n",
        "        conj_den = den_prime.real%p + (p-den_prime.imag)%p*j\n",
        "        ab = ((den_prime.real)**2+(den_prime.imag)**2)%p\n",
        "\n",
        "        def find_inverse(element, mod):\n",
        "          if element == 0:\n",
        "            return None\n",
        "\n",
        "          # Apply the extended Euclidean algorithm\n",
        "          a, b = mod, element\n",
        "          x, y = 0, 1\n",
        "          while b != 0:\n",
        "               quotient = a // b\n",
        "               a, b = b, a - quotient * b\n",
        "               x, y = y, x - quotient * y\n",
        "\n",
        "           # Ensure the inverse is positive\n",
        "          inverse = x % mod\n",
        "          if inverse < 0:\n",
        "               inverse += mod\n",
        "\n",
        "          return inverse\n",
        "\n",
        "        # Test the function\n",
        "        element = ab\n",
        "        mod = p\n",
        "        inverse = find_inverse(element, mod)\n",
        "        den_double = conj_den*inverse\n",
        "        den_triple = den_double.real%p + den_double.imag%p*j\n",
        "        slope_prime = num_prime*den_triple\n",
        "        slope = slope_prime.real%p + slope_prime.imag%p*j\n",
        "\n",
        "    Rx = slope**2 - A - P[0] - Q[0]\n",
        "    Rx_prime = complex(Rx.real%p , Rx.imag%p)\n",
        "    Ry = -(P[1] + slope * (Rx_prime - P[0]) )\n",
        "    Ry_prime = complex(Ry.real%p , Ry.imag%p)\n",
        "    return (Rx_prime, Ry_prime)\n",
        "\n",
        "# Test point addition\n",
        "R = point_addition(P,Q)\n",
        "P= ((96+39j), (36+22j))\n",
        "Q= ((39+46j), 0j)\n",
        "print(R)\n"
      ],
      "metadata": {
        "colab": {
          "base_uri": "https://localhost:8080/"
        },
        "id": "gkMUAR9TyH-e",
        "outputId": "1c5b29ec-6adb-4e1d-a7df-6310d7190ae0"
      },
      "execution_count": null,
      "outputs": [
        {
          "output_type": "stream",
          "name": "stdout",
          "text": [
            "((96+74j), (62+6j))\n"
          ]
        }
      ]
    },
    {
      "cell_type": "code",
      "source": [
        "# E_a to E_a'\n",
        "j = complex(0,1)\n",
        "p = 107\n",
        "def A(alpha):\n",
        "\n",
        "   a_prime = 2*(1-2*alpha**2)\n",
        "   real_part_of_a_prime = a_prime.real%p\n",
        "   imag_part_of_a_prime = a_prime.imag%p\n",
        "   result = real_part_of_a_prime + imag_part_of_a_prime *j\n",
        "   print(result)\n",
        "\n",
        "A(78+57j)"
      ],
      "metadata": {
        "colab": {
          "base_uri": "https://localhost:8080/"
        },
        "id": "LulmAeper6IT",
        "outputId": "a745ad1a-403e-4a59-fa50-81bf8ae7a8ca"
      },
      "execution_count": null,
      "outputs": [
        {
          "output_type": "stream",
          "name": "stdout",
          "text": [
            "(4+63j)\n"
          ]
        }
      ]
    },
    {
      "cell_type": "code",
      "source": [
        "# 2_isogeny\n",
        "\n",
        "j = complex(0, 1)\n",
        "p = 107\n",
        "c =96+3j\n",
        "\n",
        "def A(x):\n",
        "     m = x*(c*x - 1)\n",
        "     real_part_of_m = (m.real) % p\n",
        "     imag_part_of_m = (m.imag) % p\n",
        "     m_prime = real_part_of_m + (imag_part_of_m)*j\n",
        "\n",
        "     n = x - c\n",
        "     real_part_of_n = (n.real) % p\n",
        "     imag_part_of_n = (n.imag) % p\n",
        "     n_prime =  real_part_of_n + (imag_part_of_n)*j\n",
        "\n",
        "     modulus_of_n_prime = ((real_part_of_n)**2 + (imag_part_of_n)**2) % p\n",
        "\n",
        "     def find_inverse(element, mod):\n",
        "\n",
        "        if element == 0:\n",
        "          return None\n",
        "\n",
        "        # Apply the extended Euclidean algorithm\n",
        "        a, b = mod, element\n",
        "        x, y = 0, 1\n",
        "        while b != 0:\n",
        "            quotient = a // b\n",
        "            a, b = b, a - quotient * b\n",
        "            x, y = y, x - quotient * y\n",
        "\n",
        "        # Ensure the inverse is positive\n",
        "        inverse = x % mod\n",
        "        if inverse < 0:\n",
        "          inverse += mod\n",
        "\n",
        "        return inverse\n",
        "\n",
        "   # Test the function\n",
        "     element =  modulus_of_n_prime\n",
        "     mod = p\n",
        "     inverse = find_inverse(element, mod)\n",
        "\n",
        "     n_double_prime =  real_part_of_n + (p-imag_part_of_n)*j\n",
        "     n_triple_prime = n_double_prime*inverse\n",
        "     real_part_of_n_triple_prime = n_triple_prime.real%p\n",
        "     imag_part_of_n_triple_prime = n_triple_prime.imag%p\n",
        "     n_forth_prime = real_part_of_n_triple_prime + imag_part_of_n_triple_prime*j\n",
        "\n",
        "     s = m_prime * n_forth_prime\n",
        "     real_part_of_s = s.real % p\n",
        "     imag_part_of_s = s.imag % p\n",
        "     result = real_part_of_s + imag_part_of_s * 1j\n",
        "\n",
        "     print(\"result is =\", result)\n",
        "\n",
        "A(70j)"
      ],
      "metadata": {
        "id": "zkBZX3s0sAff",
        "colab": {
          "base_uri": "https://localhost:8080/"
        },
        "outputId": "e5af47a7-0e26-4050-d6cc-b2f069e84d33"
      },
      "execution_count": null,
      "outputs": [
        {
          "output_type": "stream",
          "name": "stdout",
          "text": [
            "result is = (43+49j)\n"
          ]
        }
      ]
    },
    {
      "cell_type": "code",
      "source": [
        "j=complex(0,1)\n",
        "p=107\n",
        "a=2+99*j\n",
        "for u in range(1,107):\n",
        "   b=7+u*j\n",
        "   count=0\n",
        "   for m in range(p):\n",
        "    for n in range(p):\n",
        "      i=m+n*j\n",
        "      Z=i**3+a*i**2+i+b\n",
        "      X=complex(Z.real%p , Z.imag%p)\n",
        "\n",
        "      for k_m in range(p):\n",
        "        for k_n in range(p):\n",
        "          k=k_m+k_n*j\n",
        "          Y=complex((k**2).real%p , (k**2).imag%p)\n",
        "          if X==Y:\n",
        "            count+=1\n",
        "   print(f\"u={u} Count={count}\")\n",
        "\n"
      ],
      "metadata": {
        "id": "3fR-GVzjVb2z"
      },
      "execution_count": null,
      "outputs": []
    },
    {
      "cell_type": "code",
      "source": [
        "# y coordinate of 2 isogeny\n",
        "j = complex(0, 1)\n",
        "p = 107\n",
        "def F(x,y,c,alpha):\n",
        "  num = c*y*((x-alpha)*(2*alpha*x-1) - x*(alpha*x-1))\n",
        "  num_prime = num.real%p + (num.imag%p)*j\n",
        "  den = (x-alpha)**2\n",
        "  den_prime = den.real%p + (den.imag%p)*j\n",
        "  den_dou_prime = den_prime.real - den_prime.imag*j\n",
        "  ab = ((den_prime.real)**2 + (den_prime.imag)**2)%p\n",
        "\n",
        "  def find_inverse(element, mod):\n",
        "            if element == 0:\n",
        "                return None\n",
        "            a, b = mod, element\n",
        "            x, y = 0, 1\n",
        "            while b != 0:\n",
        "                quotient = a // b\n",
        "                a, b = b, a - quotient * b\n",
        "                x, y = y, x - quotient * y\n",
        "\n",
        "            # Ensure the inverse is positive\n",
        "            inverse = x % mod\n",
        "            if inverse < 0:\n",
        "                inverse += mod\n",
        "\n",
        "            return inverse\n",
        "  element = ab\n",
        "  mod = p\n",
        "  inverse = find_inverse(element, mod)\n",
        "  den_tri_prime = den_dou_prime*inverse\n",
        "  den_for_prime = den_tri_prime.real%p + (den_tri_prime.imag%p)*j\n",
        "  result = num_prime * den_for_prime\n",
        "  final_result = result.real%p + (result.imag%p)*j\n",
        "  print(final_result)\n",
        "x =70j\n",
        "y =4+25j\n",
        "c = 96+5j\n",
        "alpha = 96+3j\n",
        "F(x,y,c,alpha)"
      ],
      "metadata": {
        "colab": {
          "base_uri": "https://localhost:8080/"
        },
        "id": "4UyECtAOEKgw",
        "outputId": "6e65f49f-ce0b-4093-ad95-529b238c3cb6"
      },
      "execution_count": null,
      "outputs": [
        {
          "output_type": "stream",
          "name": "stdout",
          "text": [
            "(59+64j)\n"
          ]
        }
      ]
    },
    {
      "cell_type": "code",
      "source": [
        "j = complex(0, 1)\n",
        "p = 107\n",
        "def F(x):\n",
        "  sq = x**2\n",
        "  sq_prime= sq.real%p + (sq.imag%p)*j\n",
        "  print(sq_prime)\n",
        "F(43+49j)"
      ],
      "metadata": {
        "colab": {
          "base_uri": "https://localhost:8080/"
        },
        "id": "CjRbv-pqJs8c",
        "outputId": "9b337c99-0a65-4d13-ade6-10165febd29a"
      },
      "execution_count": null,
      "outputs": [
        {
          "output_type": "stream",
          "name": "stdout",
          "text": [
            "(90+41j)\n"
          ]
        }
      ]
    },
    {
      "cell_type": "code",
      "source": [
        "j = complex(0, 1)\n",
        "p = 107\n",
        "num =92+81j\n",
        "den =5+28j\n",
        "den_prime = 12+(p-25)*j\n",
        "ab = ((den.real)**2 + (den.imag)**2)%p\n",
        "def find_inverse(element, mod):\n",
        "            if element == 0:\n",
        "                return None\n",
        "            a, b = mod, element\n",
        "            x, y = 0, 1\n",
        "            while b != 0:\n",
        "                quotient = a // b\n",
        "                a, b = b, a - quotient * b\n",
        "                x, y = y, x - quotient * y\n",
        "\n",
        "            # Ensure the inverse is positive\n",
        "            inverse = x % mod\n",
        "            if inverse < 0:\n",
        "                inverse += mod\n",
        "\n",
        "            return inverse\n",
        "element = ab\n",
        "mod = p\n",
        "inverse = find_inverse(element, mod)\n",
        "final = num*den_prime*inverse\n",
        "final_result = final.real%p + (final.imag%p)*j\n",
        "print(final_result)"
      ],
      "metadata": {
        "colab": {
          "base_uri": "https://localhost:8080/"
        },
        "id": "Np6IR_8bKzFc",
        "outputId": "674141a5-99b2-44f0-ff6b-18d34ec2a5e2"
      },
      "execution_count": null,
      "outputs": [
        {
          "output_type": "stream",
          "name": "stdout",
          "text": [
            "(4+92j)\n"
          ]
        }
      ]
    },
    {
      "cell_type": "code",
      "source": [
        "# from point find curve curve\n",
        "j = complex(0,1)\n",
        "p=107\n",
        "def A(x,y):\n",
        "   rhs = y**2-x**3-x\n",
        "   rhs_prime = rhs.real%p + (rhs.imag%p)*j\n",
        "   den = (x**2).real%p + ((x**2).imag%p)*j\n",
        "   den_prime = den.real + (p-den.imag)*j\n",
        "   ab = ((den.real)**2 + (den.imag)**2)%p\n",
        "   def find_inverse(element, mod):\n",
        "            if element == 0:\n",
        "                return None\n",
        "            a, b = mod, element\n",
        "            x, y = 0, 1\n",
        "            while b != 0:\n",
        "                quotient = a // b\n",
        "                a, b = b, a - quotient * b\n",
        "                x, y = y, x - quotient * y\n",
        "\n",
        "            # Ensure the inverse is positive\n",
        "            inverse = x % mod\n",
        "            if inverse < 0:\n",
        "                inverse += mod\n",
        "\n",
        "            return inverse\n",
        "   element = ab\n",
        "   mod = p\n",
        "   inverse = find_inverse(element, mod)\n",
        "   result =  rhs_prime * den_prime *  inverse\n",
        "   final = result.real%p + (result.imag%p)*j\n",
        "   print(final)\n",
        "A(43+49j,59+64j)"
      ],
      "metadata": {
        "colab": {
          "base_uri": "https://localhost:8080/"
        },
        "id": "ATgzPd2EqcNl",
        "outputId": "df91ebc0-ee75-499b-e606-3729cf84e146"
      },
      "execution_count": null,
      "outputs": [
        {
          "output_type": "stream",
          "name": "stdout",
          "text": [
            "(75+46j)\n"
          ]
        }
      ]
    },
    {
      "cell_type": "code",
      "source": [
        "j=complex(0,1)\n",
        "p = 107 # the field size\n",
        "def A(x,y):\n",
        "       mul = x*y\n",
        "       mul_prime = mul.real%p + (mul.imag%p)*j\n",
        "       print(mul_prime)\n",
        "A(4+92j , 95+69j)"
      ],
      "metadata": {
        "id": "QhCado9Ywnmw",
        "colab": {
          "base_uri": "https://localhost:8080/"
        },
        "outputId": "7b53885e-acb5-41c0-823e-494126264a9f"
      },
      "execution_count": null,
      "outputs": [
        {
          "output_type": "stream",
          "name": "stdout",
          "text": [
            "(24+28j)\n"
          ]
        }
      ]
    },
    {
      "cell_type": "code",
      "source": [
        "# from point find curve curve\n",
        "j = complex(0,1)\n",
        "p=107\n",
        "def A(x,y):\n",
        "   rhs = y**2-x**3-x\n",
        "   rhs_prime = rhs.real%p + (rhs.imag%p)*j\n",
        "   print(rhs_prime)\n",
        "A(79+58j , 57+79j)"
      ],
      "metadata": {
        "id": "uB-ZcIJOworA",
        "colab": {
          "base_uri": "https://localhost:8080/"
        },
        "outputId": "d8aaef8c-d982-4fde-86c8-2fbd596591c6"
      },
      "execution_count": null,
      "outputs": [
        {
          "output_type": "stream",
          "name": "stdout",
          "text": [
            "(60+20j)\n"
          ]
        }
      ]
    },
    {
      "cell_type": "code",
      "source": [
        "p=107\n",
        "for i in range(p):\n",
        "   a = ((i)**2)%p\n",
        "   print(f\"{i}:\",a)"
      ],
      "metadata": {
        "id": "kxwQ5vpZan1A"
      },
      "execution_count": null,
      "outputs": []
    }
  ],
  "metadata": {
    "colab": {
      "provenance": [],
      "authorship_tag": "ABX9TyPVZRc187j/Tej4na/OEWDa",
      "include_colab_link": true
    },
    "kernelspec": {
      "display_name": "Python 3",
      "name": "python3"
    },
    "language_info": {
      "name": "python"
    }
  },
  "nbformat": 4,
  "nbformat_minor": 0
}